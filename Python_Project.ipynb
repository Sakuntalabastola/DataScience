{
 "cells": [
  {
   "cell_type": "code",
   "execution_count": 1,
   "id": "76a07d5c",
   "metadata": {},
   "outputs": [],
   "source": [
    "# import the libraries and dependencies"
   ]
  },
  {
   "cell_type": "code",
   "execution_count": 2,
   "id": "ffaac94e",
   "metadata": {},
   "outputs": [],
   "source": [
    "import pandas as pd\n",
    "from sklearn.model_selection import train_test_split\n",
    "from sklearn.linear_model import LinearRegression\n",
    "from sklearn.metrics import mean_squared_error, r2_score\n",
    "from sklearn.preprocessing import StandardScaler\n",
    "import numpy as np"
   ]
  },
  {
   "cell_type": "code",
   "execution_count": 3,
   "id": "86e32f14",
   "metadata": {},
   "outputs": [],
   "source": [
    "# import the CSV data\n",
    "cities_df = pd.read_csv('C:/Users/Sikkim/Desktop/Python Project/cities.csv', header=0)\n",
    "colleges_df = pd.read_csv('C:/Users/Sikkim/Desktop/Python Project/Colleges.csv', header=0)\n",
    "employees_df = pd.read_csv('C:/Users/Sikkim/Desktop/Python Project/employees.csv', header=0)"
   ]
  },
  {
   "cell_type": "code",
   "execution_count": 4,
   "id": "be54e967",
   "metadata": {},
   "outputs": [
    {
     "data": {
      "text/html": [
       "<div>\n",
       "<style scoped>\n",
       "    .dataframe tbody tr th:only-of-type {\n",
       "        vertical-align: middle;\n",
       "    }\n",
       "\n",
       "    .dataframe tbody tr th {\n",
       "        vertical-align: top;\n",
       "    }\n",
       "\n",
       "    .dataframe thead th {\n",
       "        text-align: right;\n",
       "    }\n",
       "</style>\n",
       "<table border=\"1\" class=\"dataframe\">\n",
       "  <thead>\n",
       "    <tr style=\"text-align: right;\">\n",
       "      <th></th>\n",
       "      <th>Metrio City</th>\n",
       "      <th>non-metro cities</th>\n",
       "    </tr>\n",
       "  </thead>\n",
       "  <tbody>\n",
       "    <tr>\n",
       "      <th>0</th>\n",
       "      <td>Mumbai</td>\n",
       "      <td>Dehradun</td>\n",
       "    </tr>\n",
       "    <tr>\n",
       "      <th>1</th>\n",
       "      <td>Delhi</td>\n",
       "      <td>Durgapur</td>\n",
       "    </tr>\n",
       "    <tr>\n",
       "      <th>2</th>\n",
       "      <td>Kolkata</td>\n",
       "      <td>Asansol</td>\n",
       "    </tr>\n",
       "    <tr>\n",
       "      <th>3</th>\n",
       "      <td>Chennai</td>\n",
       "      <td>Rourkela</td>\n",
       "    </tr>\n",
       "    <tr>\n",
       "      <th>4</th>\n",
       "      <td>Bangalore</td>\n",
       "      <td>Kozhikode</td>\n",
       "    </tr>\n",
       "  </tbody>\n",
       "</table>\n",
       "</div>"
      ],
      "text/plain": [
       "  Metrio City non-metro cities\n",
       "0      Mumbai         Dehradun\n",
       "1       Delhi         Durgapur\n",
       "2     Kolkata          Asansol\n",
       "3     Chennai         Rourkela\n",
       "4   Bangalore        Kozhikode"
      ]
     },
     "execution_count": 4,
     "metadata": {},
     "output_type": "execute_result"
    }
   ],
   "source": [
    "cities_df.head()"
   ]
  },
  {
   "cell_type": "code",
   "execution_count": 5,
   "id": "5622d6a0",
   "metadata": {},
   "outputs": [
    {
     "data": {
      "text/html": [
       "<div>\n",
       "<style scoped>\n",
       "    .dataframe tbody tr th:only-of-type {\n",
       "        vertical-align: middle;\n",
       "    }\n",
       "\n",
       "    .dataframe tbody tr th {\n",
       "        vertical-align: top;\n",
       "    }\n",
       "\n",
       "    .dataframe thead th {\n",
       "        text-align: right;\n",
       "    }\n",
       "</style>\n",
       "<table border=\"1\" class=\"dataframe\">\n",
       "  <thead>\n",
       "    <tr style=\"text-align: right;\">\n",
       "      <th></th>\n",
       "      <th>Tier 1</th>\n",
       "      <th>Tier 2</th>\n",
       "      <th>Tier 3</th>\n",
       "    </tr>\n",
       "  </thead>\n",
       "  <tbody>\n",
       "    <tr>\n",
       "      <th>0</th>\n",
       "      <td>IIT Bombay</td>\n",
       "      <td>IIIT Bangalore</td>\n",
       "      <td>Ramaiah Institute of Technology, Bengaluru</td>\n",
       "    </tr>\n",
       "    <tr>\n",
       "      <th>1</th>\n",
       "      <td>IIT Delhi</td>\n",
       "      <td>IIIT Delhi</td>\n",
       "      <td>TIET/Thapar University</td>\n",
       "    </tr>\n",
       "    <tr>\n",
       "      <th>2</th>\n",
       "      <td>IIT Kharagpur</td>\n",
       "      <td>IGDTUW</td>\n",
       "      <td>Manipal Main Campus</td>\n",
       "    </tr>\n",
       "    <tr>\n",
       "      <th>3</th>\n",
       "      <td>IIT Madras</td>\n",
       "      <td>NIT Calicut</td>\n",
       "      <td>VIT Vellore</td>\n",
       "    </tr>\n",
       "    <tr>\n",
       "      <th>4</th>\n",
       "      <td>IIT Kanpur</td>\n",
       "      <td>IIITM Gwalior</td>\n",
       "      <td>SRM Main Campus</td>\n",
       "    </tr>\n",
       "  </tbody>\n",
       "</table>\n",
       "</div>"
      ],
      "text/plain": [
       "          Tier 1          Tier 2                                      Tier 3\n",
       "0     IIT Bombay  IIIT Bangalore  Ramaiah Institute of Technology, Bengaluru\n",
       "1      IIT Delhi      IIIT Delhi                      TIET/Thapar University\n",
       "2  IIT Kharagpur          IGDTUW                         Manipal Main Campus\n",
       "3     IIT Madras     NIT Calicut                                 VIT Vellore\n",
       "4     IIT Kanpur   IIITM Gwalior                             SRM Main Campus"
      ]
     },
     "execution_count": 5,
     "metadata": {},
     "output_type": "execute_result"
    }
   ],
   "source": [
    "colleges_df.head()"
   ]
  },
  {
   "cell_type": "code",
   "execution_count": 6,
   "id": "f394ff99",
   "metadata": {},
   "outputs": [
    {
     "data": {
      "text/html": [
       "<div>\n",
       "<style scoped>\n",
       "    .dataframe tbody tr th:only-of-type {\n",
       "        vertical-align: middle;\n",
       "    }\n",
       "\n",
       "    .dataframe tbody tr th {\n",
       "        vertical-align: top;\n",
       "    }\n",
       "\n",
       "    .dataframe thead th {\n",
       "        text-align: right;\n",
       "    }\n",
       "</style>\n",
       "<table border=\"1\" class=\"dataframe\">\n",
       "  <thead>\n",
       "    <tr style=\"text-align: right;\">\n",
       "      <th></th>\n",
       "      <th>College</th>\n",
       "      <th>City</th>\n",
       "      <th>Role</th>\n",
       "      <th>Previous CTC</th>\n",
       "      <th>Previous job change</th>\n",
       "      <th>Graduation Marks</th>\n",
       "      <th>EXP (Month)</th>\n",
       "      <th>CTC</th>\n",
       "    </tr>\n",
       "  </thead>\n",
       "  <tbody>\n",
       "    <tr>\n",
       "      <th>0</th>\n",
       "      <td>SVNIT Surat</td>\n",
       "      <td>Asansol</td>\n",
       "      <td>Manager</td>\n",
       "      <td>55523</td>\n",
       "      <td>3</td>\n",
       "      <td>66</td>\n",
       "      <td>19</td>\n",
       "      <td>71406.58</td>\n",
       "    </tr>\n",
       "    <tr>\n",
       "      <th>1</th>\n",
       "      <td>NIT Bhopal</td>\n",
       "      <td>Ajmer</td>\n",
       "      <td>Executive</td>\n",
       "      <td>57081</td>\n",
       "      <td>1</td>\n",
       "      <td>84</td>\n",
       "      <td>18</td>\n",
       "      <td>68005.87</td>\n",
       "    </tr>\n",
       "    <tr>\n",
       "      <th>2</th>\n",
       "      <td>IEM, Kolkata</td>\n",
       "      <td>Rajpur Sonarpur</td>\n",
       "      <td>Executive</td>\n",
       "      <td>60347</td>\n",
       "      <td>2</td>\n",
       "      <td>52</td>\n",
       "      <td>28</td>\n",
       "      <td>76764.02</td>\n",
       "    </tr>\n",
       "    <tr>\n",
       "      <th>3</th>\n",
       "      <td>KIIT, Bhubaneswar</td>\n",
       "      <td>Ajmer</td>\n",
       "      <td>Executive</td>\n",
       "      <td>49010</td>\n",
       "      <td>2</td>\n",
       "      <td>81</td>\n",
       "      <td>33</td>\n",
       "      <td>82092.39</td>\n",
       "    </tr>\n",
       "    <tr>\n",
       "      <th>4</th>\n",
       "      <td>DTU</td>\n",
       "      <td>Durgapur</td>\n",
       "      <td>Executive</td>\n",
       "      <td>57879</td>\n",
       "      <td>4</td>\n",
       "      <td>74</td>\n",
       "      <td>32</td>\n",
       "      <td>73878.10</td>\n",
       "    </tr>\n",
       "  </tbody>\n",
       "</table>\n",
       "</div>"
      ],
      "text/plain": [
       "             College             City       Role  Previous CTC  \\\n",
       "0        SVNIT Surat          Asansol    Manager         55523   \n",
       "1         NIT Bhopal            Ajmer  Executive         57081   \n",
       "2       IEM, Kolkata  Rajpur Sonarpur  Executive         60347   \n",
       "3  KIIT, Bhubaneswar            Ajmer  Executive         49010   \n",
       "4                DTU         Durgapur  Executive         57879   \n",
       "\n",
       "   Previous job change  Graduation Marks  EXP (Month)       CTC  \n",
       "0                    3                66           19  71406.58  \n",
       "1                    1                84           18  68005.87  \n",
       "2                    2                52           28  76764.02  \n",
       "3                    2                81           33  82092.39  \n",
       "4                    4                74           32  73878.10  "
      ]
     },
     "execution_count": 6,
     "metadata": {},
     "output_type": "execute_result"
    }
   ],
   "source": [
    "employees_df.head()"
   ]
  },
  {
   "cell_type": "code",
   "execution_count": 7,
   "id": "bc47ea0b",
   "metadata": {},
   "outputs": [],
   "source": [
    "#convert the categorical data into numerical data such that 0 goes for non-metro and 1 for metro cities"
   ]
  },
  {
   "cell_type": "code",
   "execution_count": 8,
   "id": "2eed6249",
   "metadata": {},
   "outputs": [],
   "source": [
    "city_dict = {}\n",
    "\n",
    "for city in cities_df['Metrio City'].dropna():\n",
    "    city_dict[city] = 1\n",
    "for city in cities_df['non-metro cities'].dropna():\n",
    "    city_dict[city] = 0"
   ]
  },
  {
   "cell_type": "code",
   "execution_count": 9,
   "id": "85155b80",
   "metadata": {},
   "outputs": [
    {
     "data": {
      "text/plain": [
       "{'Mumbai': 1,\n",
       " 'Delhi': 1,\n",
       " 'Kolkata': 1,\n",
       " 'Chennai': 1,\n",
       " 'Bangalore': 1,\n",
       " 'Hyderabad': 1,\n",
       " 'Ahmedabad': 1,\n",
       " 'Pune': 1,\n",
       " 'Surat': 1,\n",
       " 'Dehradun': 0,\n",
       " 'Durgapur': 0,\n",
       " 'Asansol': 0,\n",
       " 'Rourkela': 0,\n",
       " 'Kozhikode': 0,\n",
       " 'Rajpur Sonarpur': 0,\n",
       " 'Kolhapur': 0,\n",
       " 'Ajmer': 0}"
      ]
     },
     "execution_count": 9,
     "metadata": {},
     "output_type": "execute_result"
    }
   ],
   "source": [
    "city_dict"
   ]
  },
  {
   "cell_type": "code",
   "execution_count": 10,
   "id": "d1ef8102",
   "metadata": {},
   "outputs": [],
   "source": [
    "# converting the college names into numerial formats "
   ]
  },
  {
   "cell_type": "code",
   "execution_count": 11,
   "id": "eae1d05a",
   "metadata": {},
   "outputs": [],
   "source": [
    "college_dict = {}\n",
    "for college in colleges_df['Tier 1'].dropna():\n",
    "    college_dict[college] = 1\n",
    "for college in colleges_df['Tier 2'].dropna():\n",
    "    college_dict[college] = 2\n",
    "for college in colleges_df['Tier 3'].dropna():\n",
    "    college_dict[college] = 3"
   ]
  },
  {
   "cell_type": "code",
   "execution_count": 12,
   "id": "230689e7",
   "metadata": {},
   "outputs": [
    {
     "data": {
      "text/plain": [
       "{'IIT Bombay': 1,\n",
       " 'IIT Delhi': 1,\n",
       " 'IIT Kharagpur': 1,\n",
       " 'IIT Madras': 1,\n",
       " 'IIT Kanpur': 1,\n",
       " 'IIT Roorkee': 1,\n",
       " 'IIT Guwahati': 1,\n",
       " 'IIIT Hyderabad': 1,\n",
       " 'BITS Pilani (Pilani Campus)': 1,\n",
       " 'IIT Indore': 1,\n",
       " 'IIT Ropar': 1,\n",
       " 'IIT BHU (Varanasi)': 1,\n",
       " 'IIT ISM Dhanbad': 1,\n",
       " 'DTU': 1,\n",
       " 'NSUT Delhi (NSIT)': 1,\n",
       " 'NIT Tiruchipally (Trichy)': 1,\n",
       " 'NIT Warangal': 1,\n",
       " 'NIT Surathkal (Karnataka)': 1,\n",
       " 'Jadavpur University': 1,\n",
       " 'BITS Pilani (Hyderabad Campus)': 1,\n",
       " 'BITS Pilani (Goa Campus)': 1,\n",
       " 'IIIT Allahabad': 1,\n",
       " 'IIIT Bangalore': 2,\n",
       " 'IIIT Delhi': 2,\n",
       " 'IGDTUW': 2,\n",
       " 'NIT Calicut': 2,\n",
       " 'IIITM Gwalior': 2,\n",
       " 'IIIT Lucknow': 2,\n",
       " 'MNNIT Allahabad': 2,\n",
       " 'Punjab Engineering College': 2,\n",
       " 'DAIICT': 2,\n",
       " 'MNIT Jaipur': 2,\n",
       " 'NIT Durgapur': 2,\n",
       " 'VNIT Nagpur': 2,\n",
       " 'LNMIIT': 2,\n",
       " 'BIT Mesra': 2,\n",
       " 'SVNIT Surat': 2,\n",
       " 'NIT Jalandhar': 2,\n",
       " 'NIT Jamshedpur': 2,\n",
       " 'NIT Kurukshetra': 2,\n",
       " 'NIT Patna': 2,\n",
       " 'NIT Raipur': 2,\n",
       " 'NIT Bhopal': 2,\n",
       " 'NIT Rourkela': 2,\n",
       " 'NIT Silchar': 2,\n",
       " 'NIT Sikkim': 2,\n",
       " 'IIIT Jabalpur': 2,\n",
       " 'Jalpaiguri Government Engineering College': 2,\n",
       " 'IIEST/BESU Shibpur': 2,\n",
       " 'R.V. College of Engineering': 2,\n",
       " 'Ramaiah Institute of Technology, Bengaluru': 3,\n",
       " 'TIET/Thapar University': 3,\n",
       " 'Manipal Main Campus': 3,\n",
       " 'VIT Vellore': 3,\n",
       " 'SRM Main Campus': 3,\n",
       " 'KIIT, Bhubaneswar': 3,\n",
       " 'Amity University': 3,\n",
       " 'BMS College, Bangalore': 3,\n",
       " 'PES University, Bangalore': 3,\n",
       " 'USIT, Delhi': 3,\n",
       " 'MAIT, Delhi': 3,\n",
       " 'MSIT, Delhi': 3,\n",
       " 'Dayanand College of Engineering, Bangalore': 3,\n",
       " 'Heritage Institute of Technology, Kolkata': 3,\n",
       " 'IEM, Kolkata': 3,\n",
       " 'Techno India, Kolkata': 3,\n",
       " 'Jaypee, Noida': 3,\n",
       " 'Amrita University, Coimbatore': 3,\n",
       " 'Cummins College of Engineering for Women, Pune': 3}"
      ]
     },
     "execution_count": 12,
     "metadata": {},
     "output_type": "execute_result"
    }
   ],
   "source": [
    "college_dict"
   ]
  },
  {
   "cell_type": "code",
   "execution_count": 13,
   "id": "91818d28",
   "metadata": {},
   "outputs": [],
   "source": [
    "employees_df['College'] = employees_df['College'].map(college_dict)"
   ]
  },
  {
   "cell_type": "code",
   "execution_count": 14,
   "id": "648f00ef",
   "metadata": {},
   "outputs": [],
   "source": [
    "# convert the role into numurical values"
   ]
  },
  {
   "cell_type": "code",
   "execution_count": 15,
   "id": "60d07d75",
   "metadata": {},
   "outputs": [],
   "source": [
    "employees_df['Role'] = employees_df['Role'].map({'Executive': 0, 'Manager': 1})"
   ]
  },
  {
   "cell_type": "code",
   "execution_count": 16,
   "id": "ae78fabe",
   "metadata": {},
   "outputs": [],
   "source": [
    "# convert cities also into numuric values"
   ]
  },
  {
   "cell_type": "code",
   "execution_count": 17,
   "id": "8ebcb559",
   "metadata": {},
   "outputs": [],
   "source": [
    "employees_df['City'] = employees_df['City'].map(city_dict)"
   ]
  },
  {
   "cell_type": "code",
   "execution_count": 18,
   "id": "95245462",
   "metadata": {},
   "outputs": [
    {
     "data": {
      "text/html": [
       "<div>\n",
       "<style scoped>\n",
       "    .dataframe tbody tr th:only-of-type {\n",
       "        vertical-align: middle;\n",
       "    }\n",
       "\n",
       "    .dataframe tbody tr th {\n",
       "        vertical-align: top;\n",
       "    }\n",
       "\n",
       "    .dataframe thead th {\n",
       "        text-align: right;\n",
       "    }\n",
       "</style>\n",
       "<table border=\"1\" class=\"dataframe\">\n",
       "  <thead>\n",
       "    <tr style=\"text-align: right;\">\n",
       "      <th></th>\n",
       "      <th>College</th>\n",
       "      <th>City</th>\n",
       "      <th>Role</th>\n",
       "      <th>Previous CTC</th>\n",
       "      <th>Previous job change</th>\n",
       "      <th>Graduation Marks</th>\n",
       "      <th>EXP (Month)</th>\n",
       "      <th>CTC</th>\n",
       "    </tr>\n",
       "  </thead>\n",
       "  <tbody>\n",
       "    <tr>\n",
       "      <th>0</th>\n",
       "      <td>2</td>\n",
       "      <td>0</td>\n",
       "      <td>1</td>\n",
       "      <td>55523</td>\n",
       "      <td>3</td>\n",
       "      <td>66</td>\n",
       "      <td>19</td>\n",
       "      <td>71406.58</td>\n",
       "    </tr>\n",
       "    <tr>\n",
       "      <th>1</th>\n",
       "      <td>2</td>\n",
       "      <td>0</td>\n",
       "      <td>0</td>\n",
       "      <td>57081</td>\n",
       "      <td>1</td>\n",
       "      <td>84</td>\n",
       "      <td>18</td>\n",
       "      <td>68005.87</td>\n",
       "    </tr>\n",
       "    <tr>\n",
       "      <th>2</th>\n",
       "      <td>3</td>\n",
       "      <td>0</td>\n",
       "      <td>0</td>\n",
       "      <td>60347</td>\n",
       "      <td>2</td>\n",
       "      <td>52</td>\n",
       "      <td>28</td>\n",
       "      <td>76764.02</td>\n",
       "    </tr>\n",
       "    <tr>\n",
       "      <th>3</th>\n",
       "      <td>3</td>\n",
       "      <td>0</td>\n",
       "      <td>0</td>\n",
       "      <td>49010</td>\n",
       "      <td>2</td>\n",
       "      <td>81</td>\n",
       "      <td>33</td>\n",
       "      <td>82092.39</td>\n",
       "    </tr>\n",
       "    <tr>\n",
       "      <th>4</th>\n",
       "      <td>1</td>\n",
       "      <td>0</td>\n",
       "      <td>0</td>\n",
       "      <td>57879</td>\n",
       "      <td>4</td>\n",
       "      <td>74</td>\n",
       "      <td>32</td>\n",
       "      <td>73878.10</td>\n",
       "    </tr>\n",
       "  </tbody>\n",
       "</table>\n",
       "</div>"
      ],
      "text/plain": [
       "   College  City  Role  Previous CTC  Previous job change  Graduation Marks  \\\n",
       "0        2     0     1         55523                    3                66   \n",
       "1        2     0     0         57081                    1                84   \n",
       "2        3     0     0         60347                    2                52   \n",
       "3        3     0     0         49010                    2                81   \n",
       "4        1     0     0         57879                    4                74   \n",
       "\n",
       "   EXP (Month)       CTC  \n",
       "0           19  71406.58  \n",
       "1           18  68005.87  \n",
       "2           28  76764.02  \n",
       "3           33  82092.39  \n",
       "4           32  73878.10  "
      ]
     },
     "execution_count": 18,
     "metadata": {},
     "output_type": "execute_result"
    }
   ],
   "source": [
    "employees_df.head()"
   ]
  },
  {
   "cell_type": "code",
   "execution_count": 20,
   "id": "adb763c8",
   "metadata": {},
   "outputs": [
    {
     "data": {
      "text/plain": [
       "(1589, 8)"
      ]
     },
     "execution_count": 20,
     "metadata": {},
     "output_type": "execute_result"
    }
   ],
   "source": [
    "employees_df.shape"
   ]
  },
  {
   "cell_type": "code",
   "execution_count": 21,
   "id": "05e1e48c",
   "metadata": {},
   "outputs": [
    {
     "data": {
      "text/plain": [
       "<bound method DataFrame.info of       College  City  Role  Previous CTC  Previous job change  \\\n",
       "0           2     0     1         55523                    3   \n",
       "1           2     0     0         57081                    1   \n",
       "2           3     0     0         60347                    2   \n",
       "3           3     0     0         49010                    2   \n",
       "4           1     0     0         57879                    4   \n",
       "...       ...   ...   ...           ...                  ...   \n",
       "1584        1     1     0         61285                    3   \n",
       "1585        1     0     0         63140                    1   \n",
       "1586        1     1     0         44907                    1   \n",
       "1587        1     0     0         52054                    2   \n",
       "1588        2     1     1         44353                    3   \n",
       "\n",
       "      Graduation Marks  EXP (Month)       CTC  \n",
       "0                   66           19  71406.58  \n",
       "1                   84           18  68005.87  \n",
       "2                   52           28  76764.02  \n",
       "3                   81           33  82092.39  \n",
       "4                   74           32  73878.10  \n",
       "...                ...          ...       ...  \n",
       "1584                44           60  77283.59  \n",
       "1585                44           24  68416.86  \n",
       "1586                60           19  70186.19  \n",
       "1587                67           29  73394.09  \n",
       "1588                75           18  70056.31  \n",
       "\n",
       "[1589 rows x 8 columns]>"
      ]
     },
     "execution_count": 21,
     "metadata": {},
     "output_type": "execute_result"
    }
   ],
   "source": [
    "employees_df.info"
   ]
  },
  {
   "cell_type": "code",
   "execution_count": null,
   "id": "c4cf03e2",
   "metadata": {},
   "outputs": [],
   "source": [
    "# Drop rows with missing values"
   ]
  },
  {
   "cell_type": "code",
   "execution_count": 22,
   "id": "2a5d5918",
   "metadata": {},
   "outputs": [],
   "source": [
    "employees_df = employees_df.dropna()"
   ]
  },
  {
   "cell_type": "code",
   "execution_count": 23,
   "id": "7b8ca650",
   "metadata": {},
   "outputs": [
    {
     "data": {
      "text/plain": [
       "(1589, 8)"
      ]
     },
     "execution_count": 23,
     "metadata": {},
     "output_type": "execute_result"
    }
   ],
   "source": [
    "employees_df.shape"
   ]
  },
  {
   "cell_type": "code",
   "execution_count": 24,
   "id": "a4a8cd76",
   "metadata": {},
   "outputs": [],
   "source": [
    "# Training the data based on CTC"
   ]
  },
  {
   "cell_type": "code",
   "execution_count": 25,
   "id": "740f885f",
   "metadata": {},
   "outputs": [],
   "source": [
    "# Selecting features and target variable that is CTC\n",
    "X = employees_df.drop('CTC', axis=1)\n",
    "y = employees_df['CTC']  "
   ]
  },
  {
   "cell_type": "code",
   "execution_count": 35,
   "id": "93856b17",
   "metadata": {},
   "outputs": [],
   "source": [
    "# splitting the data into test and train\n",
    "X_train, X_test, y_train, y_test = train_test_split(X, y, test_size=0.2, random_state=42)"
   ]
  },
  {
   "cell_type": "code",
   "execution_count": null,
   "id": "1ff17843",
   "metadata": {},
   "outputs": [],
   "source": []
  },
  {
   "cell_type": "code",
   "execution_count": 36,
   "id": "014aba42",
   "metadata": {},
   "outputs": [],
   "source": [
    "scaler = StandardScaler()\n",
    "X_train = scaler.fit_transform(X_train)\n",
    "X_test = scaler.transform(X_test)"
   ]
  },
  {
   "cell_type": "code",
   "execution_count": null,
   "id": "99f10d59",
   "metadata": {},
   "outputs": [],
   "source": []
  },
  {
   "cell_type": "code",
   "execution_count": 31,
   "id": "939caed3",
   "metadata": {},
   "outputs": [],
   "source": [
    "# Linear Regression"
   ]
  },
  {
   "cell_type": "code",
   "execution_count": 32,
   "id": "dff74612",
   "metadata": {},
   "outputs": [
    {
     "data": {
      "text/html": [
       "<style>#sk-container-id-1 {color: black;background-color: white;}#sk-container-id-1 pre{padding: 0;}#sk-container-id-1 div.sk-toggleable {background-color: white;}#sk-container-id-1 label.sk-toggleable__label {cursor: pointer;display: block;width: 100%;margin-bottom: 0;padding: 0.3em;box-sizing: border-box;text-align: center;}#sk-container-id-1 label.sk-toggleable__label-arrow:before {content: \"▸\";float: left;margin-right: 0.25em;color: #696969;}#sk-container-id-1 label.sk-toggleable__label-arrow:hover:before {color: black;}#sk-container-id-1 div.sk-estimator:hover label.sk-toggleable__label-arrow:before {color: black;}#sk-container-id-1 div.sk-toggleable__content {max-height: 0;max-width: 0;overflow: hidden;text-align: left;background-color: #f0f8ff;}#sk-container-id-1 div.sk-toggleable__content pre {margin: 0.2em;color: black;border-radius: 0.25em;background-color: #f0f8ff;}#sk-container-id-1 input.sk-toggleable__control:checked~div.sk-toggleable__content {max-height: 200px;max-width: 100%;overflow: auto;}#sk-container-id-1 input.sk-toggleable__control:checked~label.sk-toggleable__label-arrow:before {content: \"▾\";}#sk-container-id-1 div.sk-estimator input.sk-toggleable__control:checked~label.sk-toggleable__label {background-color: #d4ebff;}#sk-container-id-1 div.sk-label input.sk-toggleable__control:checked~label.sk-toggleable__label {background-color: #d4ebff;}#sk-container-id-1 input.sk-hidden--visually {border: 0;clip: rect(1px 1px 1px 1px);clip: rect(1px, 1px, 1px, 1px);height: 1px;margin: -1px;overflow: hidden;padding: 0;position: absolute;width: 1px;}#sk-container-id-1 div.sk-estimator {font-family: monospace;background-color: #f0f8ff;border: 1px dotted black;border-radius: 0.25em;box-sizing: border-box;margin-bottom: 0.5em;}#sk-container-id-1 div.sk-estimator:hover {background-color: #d4ebff;}#sk-container-id-1 div.sk-parallel-item::after {content: \"\";width: 100%;border-bottom: 1px solid gray;flex-grow: 1;}#sk-container-id-1 div.sk-label:hover label.sk-toggleable__label {background-color: #d4ebff;}#sk-container-id-1 div.sk-serial::before {content: \"\";position: absolute;border-left: 1px solid gray;box-sizing: border-box;top: 0;bottom: 0;left: 50%;z-index: 0;}#sk-container-id-1 div.sk-serial {display: flex;flex-direction: column;align-items: center;background-color: white;padding-right: 0.2em;padding-left: 0.2em;position: relative;}#sk-container-id-1 div.sk-item {position: relative;z-index: 1;}#sk-container-id-1 div.sk-parallel {display: flex;align-items: stretch;justify-content: center;background-color: white;position: relative;}#sk-container-id-1 div.sk-item::before, #sk-container-id-1 div.sk-parallel-item::before {content: \"\";position: absolute;border-left: 1px solid gray;box-sizing: border-box;top: 0;bottom: 0;left: 50%;z-index: -1;}#sk-container-id-1 div.sk-parallel-item {display: flex;flex-direction: column;z-index: 1;position: relative;background-color: white;}#sk-container-id-1 div.sk-parallel-item:first-child::after {align-self: flex-end;width: 50%;}#sk-container-id-1 div.sk-parallel-item:last-child::after {align-self: flex-start;width: 50%;}#sk-container-id-1 div.sk-parallel-item:only-child::after {width: 0;}#sk-container-id-1 div.sk-dashed-wrapped {border: 1px dashed gray;margin: 0 0.4em 0.5em 0.4em;box-sizing: border-box;padding-bottom: 0.4em;background-color: white;}#sk-container-id-1 div.sk-label label {font-family: monospace;font-weight: bold;display: inline-block;line-height: 1.2em;}#sk-container-id-1 div.sk-label-container {text-align: center;}#sk-container-id-1 div.sk-container {/* jupyter's `normalize.less` sets `[hidden] { display: none; }` but bootstrap.min.css set `[hidden] { display: none !important; }` so we also need the `!important` here to be able to override the default hidden behavior on the sphinx rendered scikit-learn.org. See: https://github.com/scikit-learn/scikit-learn/issues/21755 */display: inline-block !important;position: relative;}#sk-container-id-1 div.sk-text-repr-fallback {display: none;}</style><div id=\"sk-container-id-1\" class=\"sk-top-container\"><div class=\"sk-text-repr-fallback\"><pre>LinearRegression()</pre><b>In a Jupyter environment, please rerun this cell to show the HTML representation or trust the notebook. <br />On GitHub, the HTML representation is unable to render, please try loading this page with nbviewer.org.</b></div><div class=\"sk-container\" hidden><div class=\"sk-item\"><div class=\"sk-estimator sk-toggleable\"><input class=\"sk-toggleable__control sk-hidden--visually\" id=\"sk-estimator-id-1\" type=\"checkbox\" checked><label for=\"sk-estimator-id-1\" class=\"sk-toggleable__label sk-toggleable__label-arrow\">LinearRegression</label><div class=\"sk-toggleable__content\"><pre>LinearRegression()</pre></div></div></div></div></div>"
      ],
      "text/plain": [
       "LinearRegression()"
      ]
     },
     "execution_count": 32,
     "metadata": {},
     "output_type": "execute_result"
    }
   ],
   "source": [
    "lr_model = LinearRegression()\n",
    "lr_model.fit(X_train, y_train)"
   ]
  },
  {
   "cell_type": "code",
   "execution_count": 33,
   "id": "da07c76d",
   "metadata": {},
   "outputs": [],
   "source": [
    "y_pred_lr = lr_model.predict(X_test)\n",
    "mse_lr = mean_squared_error(y_test, y_pred_lr)\n",
    "rmse_lr = np.sqrt(mse_lr)\n",
    "r2_lr = r2_score(y_test, y_pred_lr)"
   ]
  },
  {
   "cell_type": "code",
   "execution_count": 34,
   "id": "a5b6d687",
   "metadata": {},
   "outputs": [
    {
     "name": "stdout",
     "output_type": "stream",
     "text": [
      "Linear Regression - Mean Squared Error: 77362774.9495656\n",
      "Linear Regression - Root Mean Squared Error: 8795.611118595774\n",
      "Linear Regression - R-squared: 0.593351795838508\n"
     ]
    }
   ],
   "source": [
    "print(f'Linear Regression - Mean Squared Error: {mse_lr}')\n",
    "print(f'Linear Regression - Root Mean Squared Error: {rmse_lr}')\n",
    "print(f'Linear Regression - R-squared: {r2_lr}')"
   ]
  },
  {
   "cell_type": "code",
   "execution_count": null,
   "id": "3f67b4d9",
   "metadata": {},
   "outputs": [],
   "source": [
    "# Random Forest Regression"
   ]
  },
  {
   "cell_type": "code",
   "execution_count": 37,
   "id": "5e9405f2",
   "metadata": {},
   "outputs": [],
   "source": [
    "from sklearn.ensemble import RandomForestRegressor\n",
    "from sklearn.model_selection import GridSearchCV"
   ]
  },
  {
   "cell_type": "code",
   "execution_count": 38,
   "id": "2ada6754",
   "metadata": {},
   "outputs": [],
   "source": [
    "rf_model = RandomForestRegressor(random_state=42)"
   ]
  },
  {
   "cell_type": "code",
   "execution_count": 39,
   "id": "c5e2d212",
   "metadata": {},
   "outputs": [],
   "source": [
    "# Grid Search for hyperparameter tuning\n",
    "param_grid = {\n",
    "    'n_estimators': [100, 200, 300],\n",
    "    'max_depth': [None, 10, 20, 30],\n",
    "    'min_samples_split': [2, 5, 10],\n",
    "    'min_samples_leaf': [1, 2, 4]\n",
    "}"
   ]
  },
  {
   "cell_type": "code",
   "execution_count": 40,
   "id": "35530cc5",
   "metadata": {},
   "outputs": [
    {
     "name": "stdout",
     "output_type": "stream",
     "text": [
      "Fitting 3 folds for each of 108 candidates, totalling 324 fits\n"
     ]
    },
    {
     "data": {
      "text/html": [
       "<style>#sk-container-id-2 {color: black;background-color: white;}#sk-container-id-2 pre{padding: 0;}#sk-container-id-2 div.sk-toggleable {background-color: white;}#sk-container-id-2 label.sk-toggleable__label {cursor: pointer;display: block;width: 100%;margin-bottom: 0;padding: 0.3em;box-sizing: border-box;text-align: center;}#sk-container-id-2 label.sk-toggleable__label-arrow:before {content: \"▸\";float: left;margin-right: 0.25em;color: #696969;}#sk-container-id-2 label.sk-toggleable__label-arrow:hover:before {color: black;}#sk-container-id-2 div.sk-estimator:hover label.sk-toggleable__label-arrow:before {color: black;}#sk-container-id-2 div.sk-toggleable__content {max-height: 0;max-width: 0;overflow: hidden;text-align: left;background-color: #f0f8ff;}#sk-container-id-2 div.sk-toggleable__content pre {margin: 0.2em;color: black;border-radius: 0.25em;background-color: #f0f8ff;}#sk-container-id-2 input.sk-toggleable__control:checked~div.sk-toggleable__content {max-height: 200px;max-width: 100%;overflow: auto;}#sk-container-id-2 input.sk-toggleable__control:checked~label.sk-toggleable__label-arrow:before {content: \"▾\";}#sk-container-id-2 div.sk-estimator input.sk-toggleable__control:checked~label.sk-toggleable__label {background-color: #d4ebff;}#sk-container-id-2 div.sk-label input.sk-toggleable__control:checked~label.sk-toggleable__label {background-color: #d4ebff;}#sk-container-id-2 input.sk-hidden--visually {border: 0;clip: rect(1px 1px 1px 1px);clip: rect(1px, 1px, 1px, 1px);height: 1px;margin: -1px;overflow: hidden;padding: 0;position: absolute;width: 1px;}#sk-container-id-2 div.sk-estimator {font-family: monospace;background-color: #f0f8ff;border: 1px dotted black;border-radius: 0.25em;box-sizing: border-box;margin-bottom: 0.5em;}#sk-container-id-2 div.sk-estimator:hover {background-color: #d4ebff;}#sk-container-id-2 div.sk-parallel-item::after {content: \"\";width: 100%;border-bottom: 1px solid gray;flex-grow: 1;}#sk-container-id-2 div.sk-label:hover label.sk-toggleable__label {background-color: #d4ebff;}#sk-container-id-2 div.sk-serial::before {content: \"\";position: absolute;border-left: 1px solid gray;box-sizing: border-box;top: 0;bottom: 0;left: 50%;z-index: 0;}#sk-container-id-2 div.sk-serial {display: flex;flex-direction: column;align-items: center;background-color: white;padding-right: 0.2em;padding-left: 0.2em;position: relative;}#sk-container-id-2 div.sk-item {position: relative;z-index: 1;}#sk-container-id-2 div.sk-parallel {display: flex;align-items: stretch;justify-content: center;background-color: white;position: relative;}#sk-container-id-2 div.sk-item::before, #sk-container-id-2 div.sk-parallel-item::before {content: \"\";position: absolute;border-left: 1px solid gray;box-sizing: border-box;top: 0;bottom: 0;left: 50%;z-index: -1;}#sk-container-id-2 div.sk-parallel-item {display: flex;flex-direction: column;z-index: 1;position: relative;background-color: white;}#sk-container-id-2 div.sk-parallel-item:first-child::after {align-self: flex-end;width: 50%;}#sk-container-id-2 div.sk-parallel-item:last-child::after {align-self: flex-start;width: 50%;}#sk-container-id-2 div.sk-parallel-item:only-child::after {width: 0;}#sk-container-id-2 div.sk-dashed-wrapped {border: 1px dashed gray;margin: 0 0.4em 0.5em 0.4em;box-sizing: border-box;padding-bottom: 0.4em;background-color: white;}#sk-container-id-2 div.sk-label label {font-family: monospace;font-weight: bold;display: inline-block;line-height: 1.2em;}#sk-container-id-2 div.sk-label-container {text-align: center;}#sk-container-id-2 div.sk-container {/* jupyter's `normalize.less` sets `[hidden] { display: none; }` but bootstrap.min.css set `[hidden] { display: none !important; }` so we also need the `!important` here to be able to override the default hidden behavior on the sphinx rendered scikit-learn.org. See: https://github.com/scikit-learn/scikit-learn/issues/21755 */display: inline-block !important;position: relative;}#sk-container-id-2 div.sk-text-repr-fallback {display: none;}</style><div id=\"sk-container-id-2\" class=\"sk-top-container\"><div class=\"sk-text-repr-fallback\"><pre>GridSearchCV(cv=3, estimator=RandomForestRegressor(random_state=42), n_jobs=-1,\n",
       "             param_grid={&#x27;max_depth&#x27;: [None, 10, 20, 30],\n",
       "                         &#x27;min_samples_leaf&#x27;: [1, 2, 4],\n",
       "                         &#x27;min_samples_split&#x27;: [2, 5, 10],\n",
       "                         &#x27;n_estimators&#x27;: [100, 200, 300]},\n",
       "             verbose=2)</pre><b>In a Jupyter environment, please rerun this cell to show the HTML representation or trust the notebook. <br />On GitHub, the HTML representation is unable to render, please try loading this page with nbviewer.org.</b></div><div class=\"sk-container\" hidden><div class=\"sk-item sk-dashed-wrapped\"><div class=\"sk-label-container\"><div class=\"sk-label sk-toggleable\"><input class=\"sk-toggleable__control sk-hidden--visually\" id=\"sk-estimator-id-2\" type=\"checkbox\" ><label for=\"sk-estimator-id-2\" class=\"sk-toggleable__label sk-toggleable__label-arrow\">GridSearchCV</label><div class=\"sk-toggleable__content\"><pre>GridSearchCV(cv=3, estimator=RandomForestRegressor(random_state=42), n_jobs=-1,\n",
       "             param_grid={&#x27;max_depth&#x27;: [None, 10, 20, 30],\n",
       "                         &#x27;min_samples_leaf&#x27;: [1, 2, 4],\n",
       "                         &#x27;min_samples_split&#x27;: [2, 5, 10],\n",
       "                         &#x27;n_estimators&#x27;: [100, 200, 300]},\n",
       "             verbose=2)</pre></div></div></div><div class=\"sk-parallel\"><div class=\"sk-parallel-item\"><div class=\"sk-item\"><div class=\"sk-label-container\"><div class=\"sk-label sk-toggleable\"><input class=\"sk-toggleable__control sk-hidden--visually\" id=\"sk-estimator-id-3\" type=\"checkbox\" ><label for=\"sk-estimator-id-3\" class=\"sk-toggleable__label sk-toggleable__label-arrow\">estimator: RandomForestRegressor</label><div class=\"sk-toggleable__content\"><pre>RandomForestRegressor(random_state=42)</pre></div></div></div><div class=\"sk-serial\"><div class=\"sk-item\"><div class=\"sk-estimator sk-toggleable\"><input class=\"sk-toggleable__control sk-hidden--visually\" id=\"sk-estimator-id-4\" type=\"checkbox\" ><label for=\"sk-estimator-id-4\" class=\"sk-toggleable__label sk-toggleable__label-arrow\">RandomForestRegressor</label><div class=\"sk-toggleable__content\"><pre>RandomForestRegressor(random_state=42)</pre></div></div></div></div></div></div></div></div></div></div>"
      ],
      "text/plain": [
       "GridSearchCV(cv=3, estimator=RandomForestRegressor(random_state=42), n_jobs=-1,\n",
       "             param_grid={'max_depth': [None, 10, 20, 30],\n",
       "                         'min_samples_leaf': [1, 2, 4],\n",
       "                         'min_samples_split': [2, 5, 10],\n",
       "                         'n_estimators': [100, 200, 300]},\n",
       "             verbose=2)"
      ]
     },
     "execution_count": 40,
     "metadata": {},
     "output_type": "execute_result"
    }
   ],
   "source": [
    "grid_search = GridSearchCV(estimator=rf_model, param_grid=param_grid, cv=3, n_jobs=-1, verbose=2)\n",
    "grid_search.fit(X_train, y_train)"
   ]
  },
  {
   "cell_type": "code",
   "execution_count": 41,
   "id": "503efdf8",
   "metadata": {},
   "outputs": [],
   "source": [
    "best_rf_model = grid_search.best_estimator_"
   ]
  },
  {
   "cell_type": "code",
   "execution_count": 43,
   "id": "05ce3c4b",
   "metadata": {},
   "outputs": [
    {
     "name": "stdout",
     "output_type": "stream",
     "text": [
      "Random Forest - Mean Squared Error: 50867855.85858002\n",
      "Random Forest - Root Mean Squared Error: 7132.170487206544\n",
      "Random Forest - R-squared: 0.6571886810415493\n"
     ]
    }
   ],
   "source": [
    "# Predict and evaluate values\n",
    "y_pred_rf = best_rf_model.predict(X_test)\n",
    "mse_rf = mean_squared_error(y_test, y_pred_rf)\n",
    "rmse_rf = np.sqrt(mse_rf)\n",
    "r2_rf = r2_score(y_test, y_pred_rf)\n",
    "\n",
    "print(f'Random Forest - Mean Squared Error: {mse_rf}')\n",
    "print(f'Random Forest - Root Mean Squared Error: {rmse_rf}')\n",
    "print(f'Random Forest - R-squared: {r2_rf}')"
   ]
  },
  {
   "cell_type": "code",
   "execution_count": 44,
   "id": "8d2b82b8",
   "metadata": {},
   "outputs": [
    {
     "data": {
      "text/plain": [
       "['salary_prediction_model.pkl']"
      ]
     },
     "execution_count": 44,
     "metadata": {},
     "output_type": "execute_result"
    }
   ],
   "source": [
    "# save the model\n",
    "import joblib\n",
    "joblib.dump(best_rf_model, 'salary_prediction_model.pkl')"
   ]
  },
  {
   "cell_type": "code",
   "execution_count": null,
   "id": "808c331a",
   "metadata": {},
   "outputs": [],
   "source": [
    "# Load the model\n"
   ]
  },
  {
   "cell_type": "code",
   "execution_count": 45,
   "id": "2ab37915",
   "metadata": {},
   "outputs": [],
   "source": [
    "model = joblib.load('salary_prediction_model.pkl')"
   ]
  },
  {
   "cell_type": "code",
   "execution_count": 46,
   "id": "3201b657",
   "metadata": {},
   "outputs": [],
   "source": [
    "new_employee_data =np.array([2, 0, 1, 10000, 1, 69, 6]).reshape(1, -1)"
   ]
  },
  {
   "cell_type": "code",
   "execution_count": 47,
   "id": "c0543acc",
   "metadata": {},
   "outputs": [
    {
     "name": "stderr",
     "output_type": "stream",
     "text": [
      "C:\\Users\\Sikkim\\anaconda3\\Lib\\site-packages\\sklearn\\base.py:439: UserWarning: X does not have valid feature names, but StandardScaler was fitted with feature names\n",
      "  warnings.warn(\n"
     ]
    }
   ],
   "source": [
    "new_employee_scaled = scaler.transform(new_employee_data)"
   ]
  },
  {
   "cell_type": "code",
   "execution_count": 48,
   "id": "48ab6151",
   "metadata": {},
   "outputs": [],
   "source": [
    "# Predict the salary for fuuture\n"
   ]
  },
  {
   "cell_type": "code",
   "execution_count": 49,
   "id": "fe91c964",
   "metadata": {},
   "outputs": [],
   "source": [
    "predicted_salary = model.predict(new_employee_scaled)"
   ]
  },
  {
   "cell_type": "code",
   "execution_count": 50,
   "id": "78a77881",
   "metadata": {},
   "outputs": [
    {
     "name": "stdout",
     "output_type": "stream",
     "text": [
      "Predicted salary: [72373.19672351]\n"
     ]
    }
   ],
   "source": [
    "print(\"Predicted salary:\", predicted_salary)"
   ]
  },
  {
   "cell_type": "code",
   "execution_count": 51,
   "id": "aaf59318",
   "metadata": {},
   "outputs": [
    {
     "ename": "IndentationError",
     "evalue": "unexpected indent (1321275048.py, line 2)",
     "output_type": "error",
     "traceback": [
      "\u001b[1;36m  Cell \u001b[1;32mIn[51], line 2\u001b[1;36m\u001b[0m\n\u001b[1;33m    \"\"\"Predicting the future salary of an employee based on various factors such as city, current role, current total\u001b[0m\n\u001b[1;37m    ^\u001b[0m\n\u001b[1;31mIndentationError\u001b[0m\u001b[1;31m:\u001b[0m unexpected indent\n"
     ]
    }
   ],
   "source": [
    " #1 Your views about the problem statement?\n",
    "    \"\"\"Predicting the future salary of an employee based on various factors such as city, current role, current total \n",
    "    compensation (CTC), years of experience, and education can provide valuable insights into potential salary trends. \n",
    "    By analyzing historical data of employees with similar profiles and tracking their career progression within the company\n",
    "    or industry, it's possible to identify patterns and correlations that can predict the salary."
   ]
  },
  {
   "cell_type": "code",
   "execution_count": null,
   "id": "4496ef01",
   "metadata": {},
   "outputs": [],
   "source": [
    "#2 What will be your approach to solving this task?\n",
    "\"\"\"\"\" My approach involves data preprocessing, feature engineering, model selection, training, evaluation, and optimization\n",
    "to predict employee salaries.\"\"\"\"\n",
    "\n",
    "#3 What were the available ML model options you had to perform this task?\n",
    "\"\"\"\"\"\"The available options included Linear Regression, Ridge Regression, Lasso Regression, Decision Tree Regressor,\n",
    "Random Forest Regressor, Gradient Boosting Regressor, and XGBoost Regressor, but i have used linear regression and random forest\"\"\"\"\"\"\n",
    "\n",
    "#4 Which model’s performance is best and what could be the possible reason for that?\n",
    "\"\"\"\"\"\" Random Forest Regressor performed the best due to its ability to handle non-linear relationships and interactions \n",
    "between features, so i have used Random Forest to perform the task.\n",
    "\n",
    "# 5 What steps can you take to improve this selected model’s performance even further?\n",
    "\"\"\"\"\"\" Improvements can include more feature engineering, hyperparameter tuning with GridSearchCV, and using ensemble methods \n",
    "like stacking.\n",
    "\n",
    "#6.\tSteps required before training the model: \n",
    "Gather historical data on employee salaries, including features such as qualifications, experience, performance ratings, \n",
    "education level, past job experience, certifications, location, and role, which has been provided in CSV files.\n",
    "After understanding the datasets and their relationships, load the CSV files into Jupyter Notebook. Identify missing\n",
    "values in the dataset. Convert the 'college' field into numerical data using tiers.\n"
   ]
  }
 ],
 "metadata": {
  "kernelspec": {
   "display_name": "Python 3 (ipykernel)",
   "language": "python",
   "name": "python3"
  },
  "language_info": {
   "codemirror_mode": {
    "name": "ipython",
    "version": 3
   },
   "file_extension": ".py",
   "mimetype": "text/x-python",
   "name": "python",
   "nbconvert_exporter": "python",
   "pygments_lexer": "ipython3",
   "version": "3.11.7"
  }
 },
 "nbformat": 4,
 "nbformat_minor": 5
}
